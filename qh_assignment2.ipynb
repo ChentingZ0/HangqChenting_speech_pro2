{
 "cells": [
  {
   "cell_type": "markdown",
   "source": [
    "# Assignment 2: Speech Production and Models\n",
    "#### EQ2321 Speech and Audio Signal Processing\n",
    "\n",
    "Max. grade: 38"
   ],
   "metadata": {
    "collapsed": false
   }
  },
  {
   "cell_type": "markdown",
   "source": [
    "# Introduction\n",
    "\n",
    "Throughout this assignment we will use the speech data in `data[\"speech8\"]` which is sampled at 8 kHz. `speech8` will be used both for tuning (training, optimizing) and evaluating the speech coders (evaluating on the training data is called closed test evaluation). Normally this is considered inappropriate (why?), but\n",
    "we accept it here for simplicity.\n",
    "You will frequently be asked to evaluate the SNR which is calculated like\n",
    "$SNR = 10 \\log 10 \\frac{\\sigma_x^2}{\\sigma_q^2}$, where $X(n)$ is input speech to the coder, and $q(n) =\n",
    "X(n) − \\hat{X}(n)$ is the quantization error, where $\\hat{X}(n)$ is the quantized speech.\n",
    "Thus, calculating the SNR amounts to estimating $\\sigma_x^2$, and $\\sigma_q^2$.\n",
    "Please note that the last part of the assignment may be the most time\n",
    "consuming. There you are asked to design a forward gain and filter adaptive\n",
    "DPCM coder and you are not given many instructions. Make sure you allocate\n",
    "enough time for this last part!"
   ],
   "metadata": {
    "collapsed": false
   }
  },
  {
   "cell_type": "markdown",
   "source": [
    "## The Uniform Scalar Quantizer (4 pts)\n",
    "\n",
    "In this task we implement the simplest quantizer of all: the uniform scalar\n",
    "quantizer (USQ). USQs will be used frequently in this assignment.\n",
    "Encoding and transmission by USQ is sometimes called Pulse Code Modulation (PCM)."
   ],
   "metadata": {
    "collapsed": false
   }
  },
  {
   "cell_type": "code",
   "execution_count": 4,
   "outputs": [],
   "source": [
    "import numpy as np\n",
    "import pickle as pkl"
   ],
   "metadata": {
    "collapsed": false
   }
  },
  {
   "cell_type": "code",
   "execution_count": 5,
   "outputs": [
    {
     "name": "stdout",
     "output_type": "stream",
     "text": [
      "[[  1.60155162]\n",
      " [  2.62439824]\n",
      " [  1.43115507]\n",
      " ...\n",
      " [-19.6068527 ]\n",
      " [ -0.22280581]\n",
      " [  0.41062539]] check speech8\n",
      " (46030, 1) shape of speech8\n"
     ]
    }
   ],
   "source": [
    "def read_assignment_file(fname):\n",
    "    with open(fname,\"rb\") as f:\n",
    "        d=pkl.load(f)\n",
    "    return d\n",
    "\n",
    "assignment_file = \"assignment2.pkl\"\n",
    "data=read_assignment_file(assignment_file)\n",
    "# print(data,'check what is inside d')   # dict type\n",
    "print(data[\"speech8\"],'check speech8' '\\n', data[\"speech8\"].shape, 'shape of speech8')"
   ],
   "metadata": {
    "collapsed": false
   }
  },
  {
   "cell_type": "markdown",
   "source": [
    "### Question 1\n",
    "\n",
    "Implement a uniform scalar encoder:\n",
    "\n",
    "```python\n",
    "def sq_enc(xin, n_bits, xmax, m):\n",
    "    \"\"\"\n",
    "    xin is a vector with the original speech samples,\n",
    "    n_bits is the number of bits available to quantize one sample in the quantizer (i.e., the rate),\n",
    "    xmax and m define the range of the quantizer from m-xmax to m+xmax,\n",
    "       so that the width of each quantization interval is ∆ = 2 × xmax/L,\n",
    "           where L is the number of quantization intervals and corresponding reconstruction values.\n",
    "       m defines the mean (or offset) of the quantizer reconstruction levels.\n",
    "\n",
    "    The function should return the index of the chosen quantization level.\n",
    "    \"\"\"\n",
    "\n",
    "    return idx\n",
    "```\n",
    "\n",
    "Setting m = 0 defines a “midrise” quantizer, and m = $\\frac{\\Delta}{2}$ gives a \"midtread\" quantizer (see the course book sec. 7.2).\n",
    "\n",
    "\n",
    "Implement also the corresponding decoder function\n",
    "```python\n",
    "def sq_dec(idx, n_bits, xmax, m)\n",
    "    \"\"\"See sq_enc for the definition of the inputs.\n",
    "    outq is the vector with the quantized values for idx.\n",
    "    \"\"\"\n",
    "    return outq\n",
    "```\n",
    "The USQ is a highly structured quantizer. The encoder can be imple-\n",
    "mented essentially by only a scalar division (no multiplications, compar-\n",
    "isons or loops are needed), making the computational complexity inde-\n",
    "pendent of the bitrate. Make sure your encoder has a computational\n",
    "complexity independent of the bitrate!\n"
   ],
   "metadata": {
    "collapsed": false
   }
  },
  {
   "cell_type": "code",
   "execution_count": 6,
   "outputs": [],
   "source": [
    "def sq_enc(xin, n_bits, xmax, m):\n",
    "    \"\"\"\n",
    "    xin is a vector with the original speech samples,\n",
    "    n_bits is the number of bits available to quantize one sample in the quantizer (i.e., the rate),\n",
    "    xmax and m define the range of the quantizer from m-xmax to m+xmax,\n",
    "       so that the width of each quantization interval is ∆ = 2 × xmax/L,\n",
    "           where L is the number of quantization intervals and corresponding reconstruction values.\n",
    "       m defines the mean (or offset) of the quantizer reconstruction levels.\n",
    "\n",
    "    The function should return the index of the chosen quantization level.\n",
    "    \"\"\"\n",
    "    L = 2**n_bits\n",
    "    offset = m-xmax\n",
    "    delta = (2*xmax)/L\n",
    "    n = len(xin)\n",
    "    idx = np.zeros((n))   # check shape\n",
    "    # print(idx.shape,'idx matrix shape')\n",
    "    for i in range(n-1):   # for each sample\n",
    "        d = xin[i] - offset\n",
    "        if d < delta:\n",
    "            idx[i] = 0\n",
    "        elif d >= (L-1)*delta:\n",
    "            idx[i] = L-1\n",
    "        else:\n",
    "            idx[i] = np.floor(d/delta)\n",
    "\n",
    "    return idx\n",
    "\n",
    "x = np.linspace(-6,6,1201)\n",
    "idx_test = sq_enc(x, 2, 4, 0)\n",
    "\n",
    "\n",
    "def sq_dec(idx, n_bits, xmax, m):\n",
    "    \"\"\"See sq_enc for the definition of the inputs.\n",
    "    outq is the vector with the quantized values for idx.\n",
    "    \"\"\"\n",
    "    L = 2**n_bits\n",
    "    delta = 2*xmax/L\n",
    "    offset = m - xmax\n",
    "    outq = offset+(2*idx+1)*(delta/2)\n",
    "    return outq"
   ],
   "metadata": {
    "collapsed": false
   }
  },
  {
   "cell_type": "markdown",
   "source": [
    "### Question 2 (4 pts)\n",
    "\n",
    "Run the encoder and decoder on a ramp signal `x=np.linspace(-6,6,1201)`. Use a `2-bit` quantizer with $x_{max} = 4$.\n",
    "\n",
    "Plot the quantizer output as a function of the input.\n",
    "\n",
    "Make sure the output levels are exactly where you expect them to be.\n",
    "\n",
    "Use a quantizer mean $m=0$. Do a similar plot with $m=1.5$."
   ],
   "metadata": {
    "collapsed": false
   }
  },
  {
   "cell_type": "code",
   "execution_count": 7,
   "outputs": [
    {
     "data": {
      "text/plain": "<Figure size 640x480 with 1 Axes>",
      "image/png": "[encoded data removed]"
     },
     "metadata": {},
     "output_type": "display_data"
    },
    {
     "data": {
      "text/plain": "<Figure size 640x480 with 1 Axes>",
      "image/png": "[encoded data removed]"
     },
     "metadata": {},
     "output_type": "display_data"
    }
   ],
   "source": [
    "import numpy as np\n",
    "import matplotlib.pyplot as plt\n",
    "%matplotlib inline\n",
    "\n",
    "x = np.linspace(-6,6,1201)\n",
    "n_bits = 2\n",
    "xmax = 4\n",
    "m1 = 0\n",
    "m2 = 1.5\n",
    "idx1 = sq_enc(x,n_bits,xmax,m1)\n",
    "outq1 = sq_dec(idx1,n_bits,xmax,m1)\n",
    "idx2 = sq_enc(x,n_bits,xmax,m2)\n",
    "outq2 = sq_dec(idx2,n_bits,xmax,m2)\n",
    "\n",
    "plt.figure()\n",
    "plt.subplot(211)\n",
    "plt.plot(x,x)\n",
    "plt.plot(x,outq1)\n",
    "plt.xlim(-6,5.99)\n",
    "plt.ylim(-6,5.99)\n",
    "plt.title('Midrise uniform quantizer')\n",
    "plt.show()\n",
    "\n",
    "plt.figure()\n",
    "plt.subplot(212)\n",
    "plt.plot(x,x)\n",
    "plt.xlim(-6,5.99)\n",
    "plt.plot(x,outq2)\n",
    "plt.title('Uniform quantizer with m = 1.5')\n",
    "plt.show()\n"
   ],
   "metadata": {
    "collapsed": false
   }
  },
  {
   "cell_type": "markdown",
   "source": [
    "## Parametric Coding of Speech (23 pts)\n",
    "\n",
    "In this task we complete our design of the vocoder from assignment 1.\n",
    "Note that the speech used in this assignment is different from assignment 1 and if\n",
    "your vocoder analysis is not robust you may have to retune the analysis for this\n",
    "assignment.\n",
    "You are encouraged to use your own vocoder.\n",
    "However, it must produce a quality that is at least as high as our vocoder provided to you.\n",
    "If not, then you have to get aquainted with our vocoder, and use that in the following.\n",
    "In practice, a speech coder must operate on a frame-by-frame basis, and transmit compressed data as quickly as possible in order to keep the delay short.\n",
    "However, you may have implemented your vocoder in an off-line fashion (the pitch estimator is easier to implement like that for example).\n",
    "This is acceptable also here."
   ],
   "metadata": {
    "collapsed": false
   }
  },
  {
   "cell_type": "markdown",
   "source": [
    "### Quantizing the Gain (8 pts)"
   ],
   "metadata": {
    "collapsed": false,
    "pycharm": {
     "name": "#%% md\n"
    }
   }
  },
  {
   "cell_type": "code",
   "execution_count": 70,
   "outputs": [],
   "source": [
    "from scipy import signal\n",
    "from scipy.linalg import solve_toeplitz\n",
    "import sounddevice as sd\n",
    "\n",
    "\n",
    "def x_corr(x,y,M=10):\n",
    "    corr = signal.correlate(x, y, mode=\"full\")\n",
    "    lags = signal.correlation_lags(len(x), len(y), mode=\"full\")\n",
    "    idx=(lags>=-M) & (lags<=M)\n",
    "    corr = corr[idx]\n",
    "    lags=lags[idx]\n",
    "    return lags[len(lags)//2:], corr[len(lags)//2:]   # truncate，len(lags) = 21, corr(only remain last 11 values)\n",
    "\n",
    "def analysis(x, alen, ulen, M):\n",
    "    naf = (len(x)-alen+ulen) // ulen  # Number of analysis frames\n",
    "    threshold = 0.3\n",
    "    E, A = np.zeros((naf, 1)), np.zeros((naf, M+1))\n",
    "    ZC, V, P = [], [], []\n",
    "\n",
    "    for n in range(naf):\n",
    "        xf = x[n*ulen:n*ulen+alen, 0].astype(np.float32)\n",
    "        for i in range(alen):\n",
    "            E[n, 0] = E[n, 0] + xf[i]**2\n",
    "        E[n, 0] = E[n, 0] / alen\n",
    "        n_zero = 0\n",
    "        xf_find_zero = xf.tolist()\n",
    "        zero_decider = [xf_find_zero[j] * xf_find_zero[j-1] for j in range(1,alen)]\n",
    "        for num in zero_decider:\n",
    "            n_zero += 1 if num < 0 else 0\n",
    "        ZC.append(n_zero/alen)     # The normalized number of zero crossings\n",
    "        V.append(1) if n_zero/alen < threshold else V.append(0)\n",
    "        lags1, r = x_corr(xf, xf, M=M)  # acf\n",
    "        A[n,:] = np.concatenate([np.ones(1), solve_toeplitz(r[:-1], -r[1:])]).ravel()\n",
    "        peak_index, peak_value = [], []\n",
    "        d_find = list(signal.correlate(xf, xf,'full')[alen-1:])\n",
    "        for i in range(len(d_find)-1):\n",
    "            if d_find[i]>d_find[i-1] and d_find[i]>d_find[i+1]:   # denote peak\n",
    "                peak_index.append(i)\n",
    "                peak_value.append(d_find[i])\n",
    "        peak_index, peak_value = peak_index[1:], peak_value[1:]\n",
    "        P.append(peak_index[peak_value.index(max(peak_value))])    # Pitch period in samples\n",
    "    ZC, V = np.array(ZC), np.array(V)\n",
    "\n",
    "    return E, ZC, V, A, P\n",
    "\n",
    "def synthesis(E, ZC, V, A, P, ulen):\n",
    "    n_frames = A.shape[0]\n",
    "    nexc = np.random.random(n_frames*ulen)\n",
    "    n1 = 0\n",
    "    Z = np.array([])\n",
    "    sound = np.zeros((n_frames*ulen))\n",
    "    for n in range(0, n_frames):\n",
    "        pexc, cp = np.zeros((n_frames*ulen)), P[n]\n",
    "        pexc[0::cp] = 1\n",
    "        exc = pexc if V[n] == 1 else nexc\n",
    "        if Z.shape[0] == 0: # 1st iteration\n",
    "            sound[n1:n1+ulen] = signal.lfilter(np.array([1]), A[n,:], exc[n1:n1+ulen])\n",
    "            Z = signal.lfiltic(np.array([1]), A[n,:], sound[n1:n1+ulen], x=exc[n1:n1+ulen])\n",
    "        else:\n",
    "            sound[n1:n1+ulen], Z = signal.lfilter(np.array([1]), A[n,:], exc[n1:n1+ulen], zi=Z)\n",
    "        energy_sum = sum([e**2 for e in sound[n1:n1+ulen]])/ulen\n",
    "        for i in range(ulen):\n",
    "            sound[n1+i] = sound[n1+i]*((E[n,0]/energy_sum)**0.5)\n",
    "        n1 += ulen\n",
    "    return sound\n",
    "\n",
    "def play_wav(x,fs):\n",
    "    sd.play(x.astype(np.int16),fs)\n",
    "\n",
    "speech_data = x=data[\"speech8\"]\n",
    "E,ZC,V,A,P = analysis(x=speech_data, alen=256, ulen=128, M=10)\n",
    "recon_sound = synthesis(E, ZC, V, A, P, ulen=128)"
   ],
   "metadata": {
    "collapsed": false,
    "pycharm": {
     "name": "#%%\n"
    }
   }
  },
  {
   "cell_type": "code",
   "execution_count": 52,
   "outputs": [],
   "source": [
    "play_wav(speech_data, fs=8000)"
   ],
   "metadata": {
    "collapsed": false,
    "pycharm": {
     "name": "#%%\n"
    }
   }
  },
  {
   "cell_type": "code",
   "execution_count": 71,
   "outputs": [],
   "source": [
    "play_wav(recon_sound, fs=8000)"
   ],
   "metadata": {
    "collapsed": false,
    "pycharm": {
     "name": "#%%\n"
    }
   }
  },
  {
   "cell_type": "markdown",
   "source": [
    "#### Question 1 (1 pts)\n",
    "\n",
    "Provide a plot of the histogram of the gain parameter.\n",
    "Indicate in the plot the range of the quantizer, i.e., mark the outer boundaries $m\\pm xmax$ (also mark m).\n",
    "Note that the pdf has a non-zero mean."
   ],
   "metadata": {
    "collapsed": false,
    "pycharm": {
     "name": "#%% md\n"
    }
   }
  },
  {
   "cell_type": "code",
   "execution_count": 104,
   "outputs": [
    {
     "data": {
      "text/plain": "(array([42., 14., 12., 23., 17.,  7.,  7.,  5.,  9.,  7.,  4.,  4.,  7.,\n         1.,  1.,  3.,  3.,  2.,  3.,  4.,  2.,  5.,  5.,  8.,  5.,  1.,\n         3.,  1.,  2.,  4.,  2.,  5.,  2.,  3.,  6.,  2.,  2.,  2.,  4.,\n         3.,  1.,  5.,  3.,  1.,  2.,  2.,  0.,  0.,  0.,  1.,  4.,  1.,\n         3.,  3.,  2.,  3.,  1.,  1.,  1.,  1.,  1.,  1.,  2.,  0.,  2.,\n         2.,  0.,  3.,  3.,  2.,  2.,  0.,  2.,  0.,  3.,  1.,  0.,  2.,\n         1.,  2.,  1.,  1.,  1.,  0.,  0.,  0.,  1.,  3.,  0.,  0.,  2.,\n         0.,  2.,  0.,  1.,  1.,  0.,  0.,  0.,  0.,  0.,  0.,  1.,  0.,\n         0.,  1.,  0.,  0.,  1.,  0.,  1.,  1.,  2.,  0.,  0.,  1.,  0.,\n         2.,  0.,  0.,  0.,  0.,  0.,  0.,  1.,  2.,  0.,  0.,  0.,  0.,\n         0.,  0.,  0.,  0.,  0.,  0.,  1.,  1.,  0.,  0.,  0.,  0.,  1.,\n         0.,  0.,  0.,  0.,  1.,  0.,  1.,  1.,  0.,  3.,  0.,  1.,  1.,\n         1.,  0.,  1.,  0.,  0.,  1.,  1.,  0.,  0.,  2.,  0.,  3.,  0.,\n         0.,  0.,  0.,  0.,  0.,  0.,  1.,  0.,  1.,  0.,  0.,  0.,  0.,\n         0.,  0.,  0.,  0.,  0.,  0.,  0.,  0.,  0.,  0.,  0.,  0.,  0.,\n         0.,  0.,  0.,  0.,  0.,  0.,  0.,  0.,  0.,  0.,  0.,  0.,  0.,\n         0.,  0.,  0.,  0.,  1.,  0.,  0.,  0.,  0.,  0.,  0.,  0.,  0.,\n         0.,  0.,  0.,  0.,  0.,  0.,  0.,  0.,  0.,  0.,  0.,  1.,  0.,\n         0.,  0.,  0.,  0.,  0.,  0.,  0.,  0.,  2.]),\n array([   2.        ,    9.2345679 ,   16.4691358 ,   23.7037037 ,\n          30.9382716 ,   38.17283951,   45.40740741,   52.64197531,\n          59.87654321,   67.11111111,   74.34567901,   81.58024691,\n          88.81481481,   96.04938272,  103.28395062,  110.51851852,\n         117.75308642,  124.98765432,  132.22222222,  139.45679012,\n         146.69135802,  153.92592593,  161.16049383,  168.39506173,\n         175.62962963,  182.86419753,  190.09876543,  197.33333333,\n         204.56790123,  211.80246914,  219.03703704,  226.27160494,\n         233.50617284,  240.74074074,  247.97530864,  255.20987654,\n         262.44444444,  269.67901235,  276.91358025,  284.14814815,\n         291.38271605,  298.61728395,  305.85185185,  313.08641975,\n         320.32098765,  327.55555556,  334.79012346,  342.02469136,\n         349.25925926,  356.49382716,  363.72839506,  370.96296296,\n         378.19753086,  385.43209877,  392.66666667,  399.90123457,\n         407.13580247,  414.37037037,  421.60493827,  428.83950617,\n         436.07407407,  443.30864198,  450.54320988,  457.77777778,\n         465.01234568,  472.24691358,  479.48148148,  486.71604938,\n         493.95061728,  501.18518519,  508.41975309,  515.65432099,\n         522.88888889,  530.12345679,  537.35802469,  544.59259259,\n         551.82716049,  559.0617284 ,  566.2962963 ,  573.5308642 ,\n         580.7654321 ,  588.        ,  595.2345679 ,  602.4691358 ,\n         609.7037037 ,  616.9382716 ,  624.17283951,  631.40740741,\n         638.64197531,  645.87654321,  653.11111111,  660.34567901,\n         667.58024691,  674.81481481,  682.04938272,  689.28395062,\n         696.51851852,  703.75308642,  710.98765432,  718.22222222,\n         725.45679012,  732.69135802,  739.92592593,  747.16049383,\n         754.39506173,  761.62962963,  768.86419753,  776.09876543,\n         783.33333333,  790.56790123,  797.80246914,  805.03703704,\n         812.27160494,  819.50617284,  826.74074074,  833.97530864,\n         841.20987654,  848.44444444,  855.67901235,  862.91358025,\n         870.14814815,  877.38271605,  884.61728395,  891.85185185,\n         899.08641975,  906.32098765,  913.55555556,  920.79012346,\n         928.02469136,  935.25925926,  942.49382716,  949.72839506,\n         956.96296296,  964.19753086,  971.43209877,  978.66666667,\n         985.90123457,  993.13580247, 1000.37037037, 1007.60493827,\n        1014.83950617, 1022.07407407, 1029.30864198, 1036.54320988,\n        1043.77777778, 1051.01234568, 1058.24691358, 1065.48148148,\n        1072.71604938, 1079.95061728, 1087.18518519, 1094.41975309,\n        1101.65432099, 1108.88888889, 1116.12345679, 1123.35802469,\n        1130.59259259, 1137.82716049, 1145.0617284 , 1152.2962963 ,\n        1159.5308642 , 1166.7654321 , 1174.        , 1181.2345679 ,\n        1188.4691358 , 1195.7037037 , 1202.9382716 , 1210.17283951,\n        1217.40740741, 1224.64197531, 1231.87654321, 1239.11111111,\n        1246.34567901, 1253.58024691, 1260.81481481, 1268.04938272,\n        1275.28395062, 1282.51851852, 1289.75308642, 1296.98765432,\n        1304.22222222, 1311.45679012, 1318.69135802, 1325.92592593,\n        1333.16049383, 1340.39506173, 1347.62962963, 1354.86419753,\n        1362.09876543, 1369.33333333, 1376.56790123, 1383.80246914,\n        1391.03703704, 1398.27160494, 1405.50617284, 1412.74074074,\n        1419.97530864, 1427.20987654, 1434.44444444, 1441.67901235,\n        1448.91358025, 1456.14814815, 1463.38271605, 1470.61728395,\n        1477.85185185, 1485.08641975, 1492.32098765, 1499.55555556,\n        1506.79012346, 1514.02469136, 1521.25925926, 1528.49382716,\n        1535.72839506, 1542.96296296, 1550.19753086, 1557.43209877,\n        1564.66666667, 1571.90123457, 1579.13580247, 1586.37037037,\n        1593.60493827, 1600.83950617, 1608.07407407, 1615.30864198,\n        1622.54320988, 1629.77777778, 1637.01234568, 1644.24691358,\n        1651.48148148, 1658.71604938, 1665.95061728, 1673.18518519,\n        1680.41975309, 1687.65432099, 1694.88888889, 1702.12345679,\n        1709.35802469, 1716.59259259, 1723.82716049, 1731.0617284 ,\n        1738.2962963 , 1745.5308642 , 1752.7654321 , 1760.        ]),\n <BarContainer object of 243 artists>)"
     },
     "execution_count": 104,
     "metadata": {},
     "output_type": "execute_result"
    },
    {
     "data": {
      "text/plain": "<Figure size 640x480 with 1 Axes>",
      "image/png": "[encoded data removed]"
     },
     "metadata": {},
     "output_type": "display_data"
    }
   ],
   "source": [
    "def gain_shape(x_origin, x_hat):\n",
    "    \"\"\"generate gain_factor from a given input vector x_origin and codebook vector x_hat\"\"\"\n",
    "    gain_factor = np.dot(x_origin.T, x_hat)/(np.linalg.norm(x_hat))**2\n",
    "    return gain_factor\n",
    "\n",
    "def get_gain_param(x, alen, ulen):\n",
    "    naf = (len(x)-alen+ulen) // ulen  # Number of analysis frames\n",
    "    gain_list = []\n",
    "    for n in range(naf):\n",
    "        xf = x[n*ulen:n*ulen+alen, 0].astype(np.float32)\n",
    "        xf_q = sq_enc(xf, n_bits=2, xmax=4, m=1.5)\n",
    "        gain = np.round(gain_shape(xf, xf_q))\n",
    "        gain_list.append(gain)\n",
    "    return gain_list\n",
    "\n",
    "gain_param = get_gain_param(x=speech_data, alen=256, ulen=128)\n",
    "plt.hist(x=gain_param, bins=len(set(gain_param)))"
   ],
   "metadata": {
    "collapsed": false,
    "pycharm": {
     "name": "#%%\n"
    }
   }
  },
  {
   "cell_type": "code",
   "execution_count": null,
   "outputs": [],
   "source": [],
   "metadata": {
    "collapsed": false,
    "pycharm": {
     "name": "#%%\n"
    }
   }
  }
 ],
 "metadata": {
  "kernelspec": {
   "display_name": "Python 3",
   "language": "python",
   "name": "python3"
  },
  "language_info": {
   "codemirror_mode": {
    "name": "ipython",
    "version": 2
   },
   "file_extension": ".py",
   "mimetype": "text/x-python",
   "name": "python",
   "nbconvert_exporter": "python",
   "pygments_lexer": "ipython2",
   "version": "2.7.6"
  }
 },
 "nbformat": 4,
 "nbformat_minor": 0
}