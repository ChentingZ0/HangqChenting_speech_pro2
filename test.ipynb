{
 "cells": [
  {
   "cell_type": "markdown",
   "source": [
    "# Assignment 2: Speech Production and Models\n",
    "#### EQ2321 Speech and Audio Signal Processing\n",
    "\n",
    "Max. grade: 38"
   ],
   "metadata": {
    "collapsed": false
   }
  },
  {
   "cell_type": "markdown",
   "source": [
    "# Introduction\n",
    "\n",
    "Throughout this assignment we will use the speech data in `data[\"speech8\"]` which is sampled at 8 kHz. `speech8` will be used both for tuning (training, optimizing) and evaluating the speech coders (evaluating on the training data is called closed test evaluation). Normally this is considered inappropriate (why?), but\n",
    "we accept it here for simplicity.\n",
    "You will frequently be asked to evaluate the SNR which is calculated like\n",
    "$SNR = 10 \\log 10 \\frac{\\sigma_x^2}{\\sigma_q^2}$, where $X(n)$ is input speech to the coder, and $q(n) =\n",
    "X(n) − \\hat{X}(n)$ is the quantization error, where $\\hat{X}(n)$ is the quantized speech.\n",
    "Thus, calculating the SNR amounts to estimating $\\sigma_x^2$, and $\\sigma_q^2$.\n",
    "Please note that the last part of the assignment may be the most time\n",
    "consuming. There you are asked to design a forward gain and filter adaptive\n",
    "DPCM coder and you are not given many instructions. Make sure you allocate\n",
    "enough time for this last part!"
   ],
   "metadata": {
    "collapsed": false
   }
  },
  {
   "cell_type": "markdown",
   "source": [
    "## The Uniform Scalar Quantizer (4 pts)\n",
    "\n",
    "In this task we implement the simplest quantizer of all: the uniform scalar\n",
    "quantizer (USQ). USQs will be used frequently in this assignment.\n",
    "Encoding and transmission by USQ is sometimes called Pulse Code Modulation (PCM)."
   ],
   "metadata": {
    "collapsed": false
   }
  },
  {
   "cell_type": "code",
   "execution_count": 2,
   "outputs": [],
   "source": [
    "import numpy as np\n",
    "import pickle as pkl"
   ],
   "metadata": {
    "collapsed": false
   }
  },
  {
   "cell_type": "code",
   "execution_count": 7,
   "outputs": [
    {
     "name": "stdout",
     "output_type": "stream",
     "text": [
      "[[  1.60155162]\n",
      " [  2.62439824]\n",
      " [  1.43115507]\n",
      " ...\n",
      " [-19.6068527 ]\n",
      " [ -0.22280581]\n",
      " [  0.41062539]] check speech8\n",
      " (46030, 1) shape of speech8\n"
     ]
    }
   ],
   "source": [
    "def read_assignment_file(fname):\n",
    "    with open(fname,\"rb\") as f:\n",
    "        d=pkl.load(f)\n",
    "    return d\n",
    "\n",
    "assignment_file = \"assignment2.pkl\"\n",
    "data=read_assignment_file(assignment_file)\n",
    "# print(data,'check what is inside d')   # dict type\n",
    "print(data[\"speech8\"],'check speech8' '\\n', data[\"speech8\"].shape, 'shape of speech8')"
   ],
   "metadata": {
    "collapsed": false
   }
  },
  {
   "cell_type": "markdown",
   "source": [
    "### Question 1\n",
    "\n",
    "Implement a uniform scalar encoder:\n",
    "\n",
    "```python\n",
    "def sq_enc(xin, n_bits, xmax, m):\n",
    "    \"\"\"\n",
    "    xin is a vector with the original speech samples,\n",
    "    n_bits is the number of bits available to quantize one sample in the quantizer (i.e., the rate),\n",
    "    xmax and m define the range of the quantizer from m-xmax to m+xmax,\n",
    "       so that the width of each quantization interval is ∆ = 2 × xmax/L,\n",
    "           where L is the number of quantization intervals and corresponding reconstruction values.\n",
    "       m defines the mean (or offset) of the quantizer reconstruction levels.\n",
    "\n",
    "    The function should return the index of the chosen quantization level.\n",
    "    \"\"\"\n",
    "\n",
    "    return idx\n",
    "```\n",
    "\n",
    "Setting m = 0 defines a “midrise” quantizer, and m = $\\frac{\\Delta}{2}$ gives a \"midtread\" quantizer (see the course book sec. 7.2).\n",
    "\n",
    "\n",
    "Implement also the corresponding decoder function\n",
    "```python\n",
    "def sq_dec(idx, n_bits, xmax, m)\n",
    "    \"\"\"See sq_enc for the definition of the inputs.\n",
    "    outq is the vector with the quantized values for idx.\n",
    "    \"\"\"\n",
    "    return outq\n",
    "```\n",
    "The USQ is a highly structured quantizer. The encoder can be imple-\n",
    "mented essentially by only a scalar division (no multiplications, compar-\n",
    "isons or loops are needed), making the computational complexity inde-\n",
    "pendent of the bitrate. Make sure your encoder has a computational\n",
    "complexity independent of the bitrate!\n"
   ],
   "metadata": {
    "collapsed": false
   }
  },
  {
   "cell_type": "code",
   "execution_count": 18,
   "outputs": [
    {
     "name": "stdout",
     "output_type": "stream",
     "text": [
      "(1201,) idx matrix shape\n"
     ]
    }
   ],
   "source": [
    "def sq_enc(xin, n_bits, xmax, m):\n",
    "    \"\"\"\n",
    "    xin is a vector with the original speech samples,\n",
    "    n_bits is the number of bits available to quantize one sample in the quantizer (i.e., the rate),\n",
    "    xmax and m define the range of the quantizer from m-xmax to m+xmax,\n",
    "       so that the width of each quantization interval is ∆ = 2 × xmax/L,\n",
    "           where L is the number of quantization intervals and corresponding reconstruction values.\n",
    "       m defines the mean (or offset) of the quantizer reconstruction levels.\n",
    "\n",
    "    The function should return the index of the chosen quantization level.\n",
    "    \"\"\"\n",
    "    L = 2**n_bits\n",
    "    offset = m-xmax\n",
    "    delta = (2*xmax)/L\n",
    "    n = len(xin)\n",
    "    idx = np.zeros((n))   # check shape\n",
    "    # print(idx.shape,'idx matrix shape')\n",
    "    for i in range(n-1):   # for each sample\n",
    "        d = xin[i] - offset\n",
    "        if d < delta:\n",
    "            idx[i] = 0\n",
    "        elif d >= (L-1)*delta:\n",
    "            idx[i] = L-1\n",
    "        else:\n",
    "            idx[i] = np.floor(d/delta)\n",
    "\n",
    "    return idx\n",
    "\n",
    "x = np.linspace(-6,6,1201)\n",
    "idx_test = sq_enc(x, 2, 4, 0)\n",
    "\n",
    "\n",
    "\n",
    "def sq_dec(idx, n_bits, xmax, m):\n",
    "    \"\"\"See sq_enc for the definition of the inputs.\n",
    "    outq is the vector with the quantized values for idx.\n",
    "    \"\"\"\n",
    "    L = 2**n_bits\n",
    "    delta = 2*xmax/L\n",
    "    offset = m - xmax\n",
    "    outq = offset+(2*idx+1)*(delta/2)\n",
    "    return outq"
   ],
   "metadata": {
    "collapsed": false
   }
  },
  {
   "cell_type": "markdown",
   "source": [
    "### Question 2 (4 pts)\n",
    "\n",
    "Run the encoder and decoder on a ramp signal `x=np.linspace(-6,6,1201)`. Use a `2-bit` quantizer with $x_{max} = 4$.\n",
    "\n",
    "Plot the quantizer output as a function of the input.\n",
    "\n",
    "Make sure the output levels are exactly where you expect them to be.\n",
    "\n",
    "Use a quantizer mean $m=0$. Do a similar plot with $m=1.5$."
   ],
   "metadata": {
    "collapsed": false
   }
  },
  {
   "cell_type": "code",
   "execution_count": 19,
   "outputs": [
    {
     "name": "stdout",
     "output_type": "stream",
     "text": [
      "(1201,) idx matrix shape\n",
      "(1201,) idx matrix shape\n"
     ]
    },
    {
     "data": {
      "text/plain": "<Figure size 640x480 with 1 Axes>",
      "image/png": "[encoded data removed]"
     },
     "metadata": {},
     "output_type": "display_data"
    },
    {
     "data": {
      "text/plain": "<Figure size 640x480 with 1 Axes>",
      "image/png": "[encoded data removed]"
     },
     "metadata": {},
     "output_type": "display_data"
    }
   ],
   "source": [
    "import numpy as np\n",
    "import matplotlib.pyplot as plt\n",
    "%matplotlib inline\n",
    "\n",
    "x = np.linspace(-6,6,1201)\n",
    "n_bits = 2\n",
    "xmax = 4\n",
    "m1 = 0\n",
    "m2 = 1.5\n",
    "idx1 = sq_enc(x,n_bits,xmax,m1)\n",
    "outq1 = sq_dec(idx1,n_bits,xmax,m1)\n",
    "idx2 = sq_enc(x,n_bits,xmax,m2)\n",
    "outq2 = sq_dec(idx2,n_bits,xmax,m2)\n",
    "\n",
    "plt.figure()\n",
    "plt.subplot(211)\n",
    "plt.plot(x,x)\n",
    "plt.plot(x,outq1)\n",
    "plt.xlim(-6,5.99)\n",
    "plt.ylim(-6,5.99)\n",
    "plt.title('Midrise uniform quantizer')\n",
    "plt.show()\n",
    "\n",
    "plt.figure()\n",
    "plt.subplot(212)\n",
    "plt.plot(x,x)\n",
    "plt.xlim(-6,5.99)\n",
    "plt.plot(x,outq2)\n",
    "plt.title('Uniform quantizer with m = 1.5')\n",
    "plt.show()\n"
   ],
   "metadata": {
    "collapsed": false
   }
  },
  {
   "cell_type": "code",
   "execution_count": null,
   "outputs": [],
   "source": [],
   "metadata": {
    "collapsed": false
   }
  }
 ],
 "metadata": {
  "kernelspec": {
   "display_name": "Python 3",
   "language": "python",
   "name": "python3"
  },
  "language_info": {
   "codemirror_mode": {
    "name": "ipython",
    "version": 2
   },
   "file_extension": ".py",
   "mimetype": "text/x-python",
   "name": "python",
   "nbconvert_exporter": "python",
   "pygments_lexer": "ipython2",
   "version": "2.7.6"
  }
 },
 "nbformat": 4,
 "nbformat_minor": 0
}
